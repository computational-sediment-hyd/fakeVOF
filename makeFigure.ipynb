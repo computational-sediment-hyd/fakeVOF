{
 "cells": [
  {
   "cell_type": "code",
   "execution_count": 1,
   "metadata": {},
   "outputs": [],
   "source": [
    "import matplotlib.pyplot as plt\n",
    "import pandas as pd\n",
    "import numpy as np\n",
    "from matplotlib import colors\n",
    "from matplotlib import cm\n",
    "import glob"
   ]
  },
  {
   "cell_type": "code",
   "execution_count": 2,
   "metadata": {},
   "outputs": [],
   "source": [
    "\n",
    "def mkfig(file,isout=False):\n",
    "\n",
    "#header\n",
    "    with open(file, \"r\") as f:\n",
    "        data = next(f).split(',')  # read\n",
    "\n",
    "    t = float( data[1] )\n",
    "\n",
    "    df = pd.read_csv(file, skiprows=1 )\n",
    "    df = df.drop(df.columns[[-1]], axis=1)\n",
    "\n",
    "    imax, kmax = int( df.iloc[-1,:].I ), int( df.iloc[-1,:].J )\n",
    "    dx, dz = 0.1, 0.1\n",
    "    X, Y = np.meshgrid( np.array([(i+0.5)*dx for i in range(imax)]), np.array([(i+0.5)*dz for i in range(kmax)]) )\n",
    "#     p = np.array(df.pressure).reshape(( kmax, imax ))\n",
    "    p = np.array(df.alpha).reshape(( kmax, imax ))\n",
    "\n",
    "    u, v = 0.5*(np.array(df.uxplus) + np.array(df.uxminus)), 0.5*(np.array(df.uzplus) + np.array(df.uzminus))\n",
    "    u, v = u.reshape(( kmax, imax )), v.reshape(( kmax, imax ))\n",
    "\n",
    "    fig, ax = plt.figure(figsize=(7, 4), dpi=150), plt.subplot()\n",
    "\n",
    "    colorbarRange = list(np.arange(0,1.1,0.1))\n",
    "    norm = colors.BoundaryNorm(colorbarRange, 256) \n",
    "    cont = ax.contourf(X, Y, p, cmap = cm.jet, levels = colorbarRange, norm = norm)\n",
    "\n",
    "    #vect = ax.quiver(X, Y, u, v, angles='xy', scale_units='xy', scale=5.0)\n",
    "    cb = fig.colorbar(cont, format = None, ticks = colorbarRange)\n",
    "    cb.set_label(r'$VOF\\ \\alpha$')\n",
    "\n",
    "    ax.set_title('t = ' + ('%03.2f' % round(t,2))+' sec')\n",
    "    xa, ya = ax.set_xlim(0, imax*dx), ax.set_ylim(0, kmax*dz)\n",
    "\n",
    "    if isout:\n",
    "        plt.savefig('fig'+file[:-4]+'.png')\n",
    "        plt.clf()\n",
    "        plt.close()\n"
   ]
  },
  {
   "cell_type": "code",
   "execution_count": 3,
   "metadata": {},
   "outputs": [],
   "source": [
    "\n",
    "L = glob.glob('*.csv')\n",
    "\n",
    "for lp in L:\n",
    "    mkfig(lp, True)\n"
   ]
  }
 ],
 "metadata": {
  "kernelspec": {
   "display_name": "Python 3",
   "language": "python",
   "name": "python3"
  },
  "language_info": {
   "codemirror_mode": {
    "name": "ipython",
    "version": 3
   },
   "file_extension": ".py",
   "mimetype": "text/x-python",
   "name": "python",
   "nbconvert_exporter": "python",
   "pygments_lexer": "ipython3",
   "version": "3.6.4"
  },
  "toc": {
   "base_numbering": 1,
   "nav_menu": {},
   "number_sections": true,
   "sideBar": true,
   "skip_h1_title": false,
   "title_cell": "Table of Contents",
   "title_sidebar": "Contents",
   "toc_cell": false,
   "toc_position": {},
   "toc_section_display": true,
   "toc_window_display": false
  }
 },
 "nbformat": 4,
 "nbformat_minor": 1
}
